{
 "cells": [
  {
   "cell_type": "code",
   "execution_count": 1,
   "metadata": {},
   "outputs": [],
   "source": [
    "from scipy import stats\n",
    "data = stats.gamma.rvs(2, loc=1.5, scale=2, size=10000)"
   ]
  },
  {
   "cell_type": "code",
   "execution_count": 3,
   "metadata": {},
   "outputs": [
    {
     "name": "stdout",
     "output_type": "stream",
     "text": [
      "Collecting fitter\n",
      "  Downloading https://files.pythonhosted.org/packages/ce/fd/df6aa63af75ed2ddacc0a789c03cf12c0e3b977b296e1af21e8c951b42de/fitter-1.1.11.tar.gz\n",
      "Requirement already satisfied: numpy in c:\\users\\srividhya_2\\anaconda3\\lib\\site-packages (from fitter) (1.16.4)\n",
      "Requirement already satisfied: matplotlib in c:\\users\\srividhya_2\\anaconda3\\lib\\site-packages (from fitter) (3.1.0)\n",
      "Requirement already satisfied: scipy>=0.18 in c:\\users\\srividhya_2\\anaconda3\\lib\\site-packages (from fitter) (1.2.1)\n",
      "Requirement already satisfied: pandas in c:\\users\\srividhya_2\\anaconda3\\lib\\site-packages (from fitter) (0.24.2)\n",
      "Requirement already satisfied: cycler>=0.10 in c:\\users\\srividhya_2\\anaconda3\\lib\\site-packages (from matplotlib->fitter) (0.10.0)\n",
      "Requirement already satisfied: kiwisolver>=1.0.1 in c:\\users\\srividhya_2\\anaconda3\\lib\\site-packages (from matplotlib->fitter) (1.1.0)\n",
      "Requirement already satisfied: pyparsing!=2.0.4,!=2.1.2,!=2.1.6,>=2.0.1 in c:\\users\\srividhya_2\\anaconda3\\lib\\site-packages (from matplotlib->fitter) (2.4.0)\n",
      "Requirement already satisfied: python-dateutil>=2.1 in c:\\users\\srividhya_2\\anaconda3\\lib\\site-packages (from matplotlib->fitter) (2.8.0)\n",
      "Requirement already satisfied: pytz>=2011k in c:\\users\\srividhya_2\\anaconda3\\lib\\site-packages (from pandas->fitter) (2019.1)\n",
      "Requirement already satisfied: six in c:\\users\\srividhya_2\\anaconda3\\lib\\site-packages (from cycler>=0.10->matplotlib->fitter) (1.12.0)\n",
      "Requirement already satisfied: setuptools in c:\\users\\srividhya_2\\anaconda3\\lib\\site-packages (from kiwisolver>=1.0.1->matplotlib->fitter) (41.0.1)\n",
      "Building wheels for collected packages: fitter\n",
      "  Building wheel for fitter (setup.py): started\n",
      "  Building wheel for fitter (setup.py): finished with status 'done'\n",
      "  Stored in directory: C:\\Users\\Srividhya_2\\AppData\\Local\\pip\\Cache\\wheels\\fb\\c2\\97\\2cf6c13e07eb92ca80c8d1b2c42a7ee8eefea0989a429d5665\n",
      "Successfully built fitter\n",
      "Installing collected packages: fitter\n",
      "Successfully installed fitter-1.1.11\n"
     ]
    }
   ],
   "source": [
    "!pip install fitter"
   ]
  },
  {
   "cell_type": "code",
   "execution_count": 4,
   "metadata": {},
   "outputs": [
    {
     "name": "stderr",
     "output_type": "stream",
     "text": [
      "C:\\Users\\Srividhya_2\\Anaconda3\\lib\\site-packages\\scipy\\stats\\_distn_infrastructure.py:2316: RuntimeWarning: invalid value encountered in double_scalars\n",
      "  Lhat = muhat - Shat*mu\n"
     ]
    },
    {
     "name": "stdout",
     "output_type": "stream",
     "text": [
      "Fitted alpha distribution with error=0.007536766426573512)\n",
      "Fitted anglit distribution with error=0.28935382229807244)\n"
     ]
    },
    {
     "name": "stderr",
     "output_type": "stream",
     "text": [
      "C:\\Users\\Srividhya_2\\Anaconda3\\lib\\site-packages\\scipy\\stats\\_continuous_distns.py:390: RuntimeWarning: divide by zero encountered in true_divide\n",
      "  return 1.0/np.pi/np.sqrt(x*(1-x))\n"
     ]
    },
    {
     "name": "stdout",
     "output_type": "stream",
     "text": [
      "Fitted arcsine distribution with error=0.32980353530374895)\n",
      "Fitted argus distribution with error=0.42612773359484346)\n"
     ]
    },
    {
     "name": "stderr",
     "output_type": "stream",
     "text": [
      "C:\\Users\\Srividhya_2\\Anaconda3\\lib\\site-packages\\scipy\\stats\\_continuous_distns.py:515: RuntimeWarning: invalid value encountered in sqrt\n",
      "  sk = 2*(b-a)*np.sqrt(a + b + 1) / (a + b + 2) / np.sqrt(a*b)\n",
      "C:\\Users\\Srividhya_2\\Anaconda3\\lib\\site-packages\\scipy\\optimize\\minpack.py:162: RuntimeWarning: The iteration is not making good progress, as measured by the \n",
      "  improvement from the last ten iterations.\n",
      "  warnings.warn(msg, RuntimeWarning)\n"
     ]
    },
    {
     "name": "stdout",
     "output_type": "stream",
     "text": [
      "Fitted beta distribution with error=0.001279456339535512)\n"
     ]
    },
    {
     "name": "stderr",
     "output_type": "stream",
     "text": [
      "C:\\Users\\Srividhya_2\\Anaconda3\\lib\\site-packages\\scipy\\stats\\_continuous_distns.py:667: RuntimeWarning: divide by zero encountered in true_divide\n",
      "  a/(b-1.0),\n",
      "C:\\Users\\Srividhya_2\\Anaconda3\\lib\\site-packages\\scipy\\stats\\_continuous_distns.py:671: RuntimeWarning: divide by zero encountered in true_divide\n",
      "  a*(a+1.0)/((b-2.0)*(b-1.0)),\n",
      "C:\\Users\\Srividhya_2\\Anaconda3\\lib\\site-packages\\scipy\\stats\\_distn_infrastructure.py:1035: RuntimeWarning: invalid value encountered in subtract\n",
      "  mu2 = mu2p - mu * mu\n"
     ]
    },
    {
     "name": "stdout",
     "output_type": "stream",
     "text": [
      "Fitted betaprime distribution with error=0.00437850547375433)\n",
      "Fitted bradford distribution with error=0.170501329891695)\n",
      "Fitted burr distribution with error=0.009303924689775162)\n",
      "Fitted burr12 distribution with error=0.001617668233408513)\n",
      "Fitted cauchy distribution with error=0.05395305390785121)\n",
      "Fitted chi distribution with error=0.011197465772077909)\n",
      "Fitted chi2 distribution with error=0.0012508856394158469)\n",
      "Fitted cosine distribution with error=0.2476531962022792)\n",
      "Fitted crystalball distribution with error=0.0558776022995701)\n",
      "Fitted dgamma distribution with error=0.04064758533533511)\n",
      "Fitted dweibull distribution with error=0.039787952011912715)\n",
      "Fitted erlang distribution with error=0.001250837686647129)\n",
      "Fitted expon distribution with error=0.09687330442162274)\n",
      "Fitted exponnorm distribution with error=0.008394714138507212)"
     ]
    },
    {
     "name": "stderr",
     "output_type": "stream",
     "text": [
      "C:\\Users\\Srividhya_2\\Anaconda3\\lib\\site-packages\\scipy\\stats\\_continuous_distns.py:2651: RuntimeWarning: The shape parameter of the erlang distribution has been given a non-integer value 2.1.\n",
      "  RuntimeWarning)\n",
      "C:\\Users\\Srividhya_2\\Anaconda3\\lib\\site-packages\\scipy\\stats\\_continuous_distns.py:2651: RuntimeWarning: The shape parameter of the erlang distribution has been given a non-integer value 2.0666666666666664.\n",
      "  RuntimeWarning)\n",
      "C:\\Users\\Srividhya_2\\Anaconda3\\lib\\site-packages\\scipy\\stats\\_continuous_distns.py:2651: RuntimeWarning: The shape parameter of the erlang distribution has been given a non-integer value 1.9444444444444442.\n",
      "  RuntimeWarning)\n",
      "C:\\Users\\Srividhya_2\\Anaconda3\\lib\\site-packages\\scipy\\stats\\_continuous_distns.py:2651: RuntimeWarning: The shape parameter of the erlang distribution has been given a non-integer value 1.8962962962962968.\n",
      "  RuntimeWarning)\n",
      "C:\\Users\\Srividhya_2\\Anaconda3\\lib\\site-packages\\scipy\\stats\\_continuous_distns.py:2651: RuntimeWarning: The shape parameter of the erlang distribution has been given a non-integer value 2.024074074074074.\n",
      "  RuntimeWarning)\n",
      "C:\\Users\\Srividhya_2\\Anaconda3\\lib\\site-packages\\scipy\\stats\\_continuous_distns.py:2651: RuntimeWarning: The shape parameter of the erlang distribution has been given a non-integer value 1.979012345679012.\n",
      "  RuntimeWarning)\n",
      "C:\\Users\\Srividhya_2\\Anaconda3\\lib\\site-packages\\scipy\\stats\\_continuous_distns.py:2651: RuntimeWarning: The shape parameter of the erlang distribution has been given a non-integer value 1.9842592592592592.\n",
      "  RuntimeWarning)\n",
      "C:\\Users\\Srividhya_2\\Anaconda3\\lib\\site-packages\\scipy\\stats\\_continuous_distns.py:2651: RuntimeWarning: The shape parameter of the erlang distribution has been given a non-integer value 2.0611111111111113.\n",
      "  RuntimeWarning)\n",
      "C:\\Users\\Srividhya_2\\Anaconda3\\lib\\site-packages\\scipy\\stats\\_continuous_distns.py:2651: RuntimeWarning: The shape parameter of the erlang distribution has been given a non-integer value 2.006172839506173.\n",
      "  RuntimeWarning)\n",
      "C:\\Users\\Srividhya_2\\Anaconda3\\lib\\site-packages\\scipy\\stats\\_continuous_distns.py:2651: RuntimeWarning: The shape parameter of the erlang distribution has been given a non-integer value 2.0106481481481486.\n",
      "  RuntimeWarning)\n",
      "C:\\Users\\Srividhya_2\\Anaconda3\\lib\\site-packages\\scipy\\stats\\_continuous_distns.py:2651: RuntimeWarning: The shape parameter of the erlang distribution has been given a non-integer value 2.06358024691358.\n",
      "  RuntimeWarning)\n",
      "C:\\Users\\Srividhya_2\\Anaconda3\\lib\\site-packages\\scipy\\stats\\_continuous_distns.py:2651: RuntimeWarning: The shape parameter of the erlang distribution has been given a non-integer value 2.004089506172839.\n",
      "  RuntimeWarning)\n",
      "C:\\Users\\Srividhya_2\\Anaconda3\\lib\\site-packages\\scipy\\stats\\_continuous_distns.py:2651: RuntimeWarning: The shape parameter of the erlang distribution has been given a non-integer value 1.9487139917695475.\n",
      "  RuntimeWarning)\n",
      "C:\\Users\\Srividhya_2\\Anaconda3\\lib\\site-packages\\scipy\\stats\\_continuous_distns.py:2651: RuntimeWarning: The shape parameter of the erlang distribution has been given a non-integer value 2.0330118312757204.\n",
      "  RuntimeWarning)\n",
      "C:\\Users\\Srividhya_2\\Anaconda3\\lib\\site-packages\\scipy\\stats\\_continuous_distns.py:2651: RuntimeWarning: The shape parameter of the erlang distribution has been given a non-integer value 2.025017146776407.\n",
      "  RuntimeWarning)\n",
      "C:\\Users\\Srividhya_2\\Anaconda3\\lib\\site-packages\\scipy\\stats\\_continuous_distns.py:2651: RuntimeWarning: The shape parameter of the erlang distribution has been given a non-integer value 2.009321416323731.\n",
      "  RuntimeWarning)\n",
      "C:\\Users\\Srividhya_2\\Anaconda3\\lib\\site-packages\\scipy\\stats\\_continuous_distns.py:2651: RuntimeWarning: The shape parameter of the erlang distribution has been given a non-integer value 2.017574016918152.\n",
      "  RuntimeWarning)\n",
      "C:\\Users\\Srividhya_2\\Anaconda3\\lib\\site-packages\\scipy\\stats\\_continuous_distns.py:2651: RuntimeWarning: The shape parameter of the erlang distribution has been given a non-integer value 2.0123796153406497.\n",
      "  RuntimeWarning)\n",
      "C:\\Users\\Srividhya_2\\Anaconda3\\lib\\site-packages\\scipy\\stats\\_continuous_distns.py:2651: RuntimeWarning: The shape parameter of the erlang distribution has been given a non-integer value 1.9814555231671998.\n",
      "  RuntimeWarning)\n",
      "C:\\Users\\Srividhya_2\\Anaconda3\\lib\\site-packages\\scipy\\stats\\_continuous_distns.py:2651: RuntimeWarning: The shape parameter of the erlang distribution has been given a non-integer value 1.9814716776533041.\n",
      "  RuntimeWarning)\n",
      "C:\\Users\\Srividhya_2\\Anaconda3\\lib\\site-packages\\scipy\\stats\\_continuous_distns.py:2651: RuntimeWarning: The shape parameter of the erlang distribution has been given a non-integer value 1.9659633842232718.\n",
      "  RuntimeWarning)\n",
      "C:\\Users\\Srividhya_2\\Anaconda3\\lib\\site-packages\\scipy\\stats\\_continuous_distns.py:2651: RuntimeWarning: The shape parameter of the erlang distribution has been given a non-integer value 1.944284368173042.\n",
      "  RuntimeWarning)\n",
      "C:\\Users\\Srividhya_2\\Anaconda3\\lib\\site-packages\\scipy\\stats\\_continuous_distns.py:2651: RuntimeWarning: The shape parameter of the erlang distribution has been given a non-integer value 1.983501184750517.\n",
      "  RuntimeWarning)\n",
      "C:\\Users\\Srividhya_2\\Anaconda3\\lib\\site-packages\\scipy\\stats\\_continuous_distns.py:2651: RuntimeWarning: The shape parameter of the erlang distribution has been given a non-integer value 1.9829897693546878.\n",
      "  RuntimeWarning)\n",
      "C:\\Users\\Srividhya_2\\Anaconda3\\lib\\site-packages\\scipy\\stats\\_continuous_distns.py:2651: RuntimeWarning: The shape parameter of the erlang distribution has been given a non-integer value 1.9844970913986688.\n",
      "  RuntimeWarning)\n",
      "C:\\Users\\Srividhya_2\\Anaconda3\\lib\\site-packages\\scipy\\stats\\_continuous_distns.py:2651: RuntimeWarning: The shape parameter of the erlang distribution has been given a non-integer value 1.9822280310896452.\n",
      "  RuntimeWarning)\n",
      "C:\\Users\\Srividhya_2\\Anaconda3\\lib\\site-packages\\scipy\\stats\\_continuous_distns.py:2651: RuntimeWarning: The shape parameter of the erlang distribution has been given a non-integer value 1.9541207897784028.\n",
      "  RuntimeWarning)\n",
      "C:\\Users\\Srividhya_2\\Anaconda3\\lib\\site-packages\\scipy\\stats\\_continuous_distns.py:2651: RuntimeWarning: The shape parameter of the erlang distribution has been given a non-integer value 1.9885301974446006.\n",
      "  RuntimeWarning)\n",
      "C:\\Users\\Srividhya_2\\Anaconda3\\lib\\site-packages\\scipy\\stats\\_continuous_distns.py:2651: RuntimeWarning: The shape parameter of the erlang distribution has been given a non-integer value 2.003201947702684.\n",
      "  RuntimeWarning)\n",
      "C:\\Users\\Srividhya_2\\Anaconda3\\lib\\site-packages\\scipy\\stats\\_continuous_distns.py:2651: RuntimeWarning: The shape parameter of the erlang distribution has been given a non-integer value 1.975273025093125.\n",
      "  RuntimeWarning)\n",
      "C:\\Users\\Srividhya_2\\Anaconda3\\lib\\site-packages\\scipy\\stats\\_continuous_distns.py:2651: RuntimeWarning: The shape parameter of the erlang distribution has been given a non-integer value 1.981031066396893.\n",
      "  RuntimeWarning)\n",
      "C:\\Users\\Srividhya_2\\Anaconda3\\lib\\site-packages\\scipy\\stats\\_continuous_distns.py:2651: RuntimeWarning: The shape parameter of the erlang distribution has been given a non-integer value 1.982500093615239.\n",
      "  RuntimeWarning)\n",
      "C:\\Users\\Srividhya_2\\Anaconda3\\lib\\site-packages\\scipy\\stats\\_continuous_distns.py:2651: RuntimeWarning: The shape parameter of the erlang distribution has been given a non-integer value 1.981974179678998.\n",
      "  RuntimeWarning)\n",
      "C:\\Users\\Srividhya_2\\Anaconda3\\lib\\site-packages\\scipy\\stats\\_continuous_distns.py:2651: RuntimeWarning: The shape parameter of the erlang distribution has been given a non-integer value 1.9821645682369833.\n",
      "  RuntimeWarning)\n",
      "C:\\Users\\Srividhya_2\\Anaconda3\\lib\\site-packages\\scipy\\stats\\_continuous_distns.py:2651: RuntimeWarning: The shape parameter of the erlang distribution has been given a non-integer value 1.9714282605189641.\n",
      "  RuntimeWarning)\n",
      "C:\\Users\\Srividhya_2\\Anaconda3\\lib\\site-packages\\scipy\\stats\\_continuous_distns.py:2651: RuntimeWarning: The shape parameter of the erlang distribution has been given a non-integer value 1.9757037447503734.\n",
      "  RuntimeWarning)\n",
      "C:\\Users\\Srividhya_2\\Anaconda3\\lib\\site-packages\\scipy\\stats\\_continuous_distns.py:2651: RuntimeWarning: The shape parameter of the erlang distribution has been given a non-integer value 1.9849725793086055.\n",
      "  RuntimeWarning)\n",
      "C:\\Users\\Srividhya_2\\Anaconda3\\lib\\site-packages\\scipy\\stats\\_continuous_distns.py:2651: RuntimeWarning: The shape parameter of the erlang distribution has been given a non-integer value 1.977697913646995.\n",
      "  RuntimeWarning)\n",
      "C:\\Users\\Srividhya_2\\Anaconda3\\lib\\site-packages\\scipy\\stats\\_continuous_distns.py:2651: RuntimeWarning: The shape parameter of the erlang distribution has been given a non-integer value 1.9745440574743287.\n",
      "  RuntimeWarning)\n",
      "C:\\Users\\Srividhya_2\\Anaconda3\\lib\\site-packages\\scipy\\stats\\_continuous_distns.py:2651: RuntimeWarning: The shape parameter of the erlang distribution has been given a non-integer value 1.9805110845800113.\n",
      "  RuntimeWarning)\n",
      "C:\\Users\\Srividhya_2\\Anaconda3\\lib\\site-packages\\scipy\\stats\\_continuous_distns.py:2651: RuntimeWarning: The shape parameter of the erlang distribution has been given a non-integer value 1.9737772604146029.\n",
      "  RuntimeWarning)\n",
      "C:\\Users\\Srividhya_2\\Anaconda3\\lib\\site-packages\\scipy\\stats\\_continuous_distns.py:2651: RuntimeWarning: The shape parameter of the erlang distribution has been given a non-integer value 1.9800677412813883.\n",
      "  RuntimeWarning)\n",
      "C:\\Users\\Srividhya_2\\Anaconda3\\lib\\site-packages\\scipy\\stats\\_continuous_distns.py:2651: RuntimeWarning: The shape parameter of the erlang distribution has been given a non-integer value 1.9831474149218893.\n",
      "  RuntimeWarning)\n",
      "C:\\Users\\Srividhya_2\\Anaconda3\\lib\\site-packages\\scipy\\stats\\_continuous_distns.py:2651: RuntimeWarning: The shape parameter of the erlang distribution has been given a non-integer value 1.9775646622932523.\n",
      "  RuntimeWarning)\n",
      "C:\\Users\\Srividhya_2\\Anaconda3\\lib\\site-packages\\scipy\\stats\\_continuous_distns.py:2651: RuntimeWarning: The shape parameter of the erlang distribution has been given a non-integer value 1.9771146990654507.\n",
      "  RuntimeWarning)\n",
      "C:\\Users\\Srividhya_2\\Anaconda3\\lib\\site-packages\\scipy\\stats\\_continuous_distns.py:2651: RuntimeWarning: The shape parameter of the erlang distribution has been given a non-integer value 1.977852959619435.\n",
      "  RuntimeWarning)\n",
      "C:\\Users\\Srividhya_2\\Anaconda3\\lib\\site-packages\\scipy\\stats\\_continuous_distns.py:2651: RuntimeWarning: The shape parameter of the erlang distribution has been given a non-integer value 1.9748992724597771.\n",
      "  RuntimeWarning)\n",
      "C:\\Users\\Srividhya_2\\Anaconda3\\lib\\site-packages\\scipy\\stats\\_continuous_distns.py:2651: RuntimeWarning: The shape parameter of the erlang distribution has been given a non-integer value 1.9791081315499528.\n",
      "  RuntimeWarning)\n",
      "C:\\Users\\Srividhya_2\\Anaconda3\\lib\\site-packages\\scipy\\stats\\_continuous_distns.py:2651: RuntimeWarning: The shape parameter of the erlang distribution has been given a non-integer value 1.978652588661432.\n",
      "  RuntimeWarning)\n",
      "C:\\Users\\Srividhya_2\\Anaconda3\\lib\\site-packages\\scipy\\stats\\_continuous_distns.py:2651: RuntimeWarning: The shape parameter of the erlang distribution has been given a non-integer value 1.9779365824006043.\n",
      "  RuntimeWarning)\n",
      "C:\\Users\\Srividhya_2\\Anaconda3\\lib\\site-packages\\scipy\\stats\\_continuous_distns.py:2651: RuntimeWarning: The shape parameter of the erlang distribution has been given a non-integer value 1.979033786753409.\n",
      "  RuntimeWarning)\n",
      "C:\\Users\\Srividhya_2\\Anaconda3\\lib\\site-packages\\scipy\\stats\\_continuous_distns.py:2651: RuntimeWarning: The shape parameter of the erlang distribution has been given a non-integer value 1.9779319434082914.\n",
      "  RuntimeWarning)\n",
      "C:\\Users\\Srividhya_2\\Anaconda3\\lib\\site-packages\\scipy\\stats\\_continuous_distns.py:2651: RuntimeWarning: The shape parameter of the erlang distribution has been given a non-integer value 1.9787981452864645.\n",
      "  RuntimeWarning)\n",
      "C:\\Users\\Srividhya_2\\Anaconda3\\lib\\site-packages\\scipy\\stats\\_continuous_distns.py:2651: RuntimeWarning: The shape parameter of the erlang distribution has been given a non-integer value 1.9792888977625345.\n",
      "  RuntimeWarning)\n",
      "C:\\Users\\Srividhya_2\\Anaconda3\\lib\\site-packages\\scipy\\stats\\_continuous_distns.py:2651: RuntimeWarning: The shape parameter of the erlang distribution has been given a non-integer value 1.9782746612410869.\n",
      "  RuntimeWarning)\n",
      "C:\\Users\\Srividhya_2\\Anaconda3\\lib\\site-packages\\scipy\\stats\\_continuous_distns.py:2651: RuntimeWarning: The shape parameter of the erlang distribution has been given a non-integer value 1.9780783455130893.\n",
      "  RuntimeWarning)\n",
      "C:\\Users\\Srividhya_2\\Anaconda3\\lib\\site-packages\\scipy\\stats\\_continuous_distns.py:2651: RuntimeWarning: The shape parameter of the erlang distribution has been given a non-integer value 1.9786181953431208.\n",
      "  RuntimeWarning)\n",
      "C:\\Users\\Srividhya_2\\Anaconda3\\lib\\site-packages\\scipy\\stats\\_continuous_distns.py:2651: RuntimeWarning: The shape parameter of the erlang distribution has been given a non-integer value 1.9794020486811492.\n",
      "  RuntimeWarning)\n",
      "C:\\Users\\Srividhya_2\\Anaconda3\\lib\\site-packages\\scipy\\stats\\_continuous_distns.py:2651: RuntimeWarning: The shape parameter of the erlang distribution has been given a non-integer value 1.9784218052936184.\n",
      "  RuntimeWarning)\n",
      "C:\\Users\\Srividhya_2\\Anaconda3\\lib\\site-packages\\scipy\\stats\\_continuous_distns.py:2651: RuntimeWarning: The shape parameter of the erlang distribution has been given a non-integer value 1.9789365499858693.\n",
      "  RuntimeWarning)\n",
      "C:\\Users\\Srividhya_2\\Anaconda3\\lib\\site-packages\\scipy\\stats\\_continuous_distns.py:2651: RuntimeWarning: The shape parameter of the erlang distribution has been given a non-integer value 1.9778175556989024.\n",
      "  RuntimeWarning)\n",
      "C:\\Users\\Srividhya_2\\Anaconda3\\lib\\site-packages\\scipy\\stats\\_continuous_distns.py:2651: RuntimeWarning: The shape parameter of the erlang distribution has been given a non-integer value 1.9790059254355876.\n",
      "  RuntimeWarning)\n",
      "C:\\Users\\Srividhya_2\\Anaconda3\\lib\\site-packages\\scipy\\stats\\_continuous_distns.py:2651: RuntimeWarning: The shape parameter of the erlang distribution has been given a non-integer value 1.979432452601965.\n",
      "  RuntimeWarning)\n",
      "C:\\Users\\Srividhya_2\\Anaconda3\\lib\\site-packages\\scipy\\stats\\_continuous_distns.py:2651: RuntimeWarning: The shape parameter of the erlang distribution has been given a non-integer value 1.9785641090813064.\n",
      "  RuntimeWarning)\n",
      "C:\\Users\\Srividhya_2\\Anaconda3\\lib\\site-packages\\scipy\\stats\\_continuous_distns.py:2651: RuntimeWarning: The shape parameter of the erlang distribution has been given a non-integer value 1.9790528609920548.\n",
      "  RuntimeWarning)\n",
      "C:\\Users\\Srividhya_2\\Anaconda3\\lib\\site-packages\\scipy\\stats\\_continuous_distns.py:2651: RuntimeWarning: The shape parameter of the erlang distribution has been given a non-integer value 1.9789441945798212.\n",
      "  RuntimeWarning)\n",
      "C:\\Users\\Srividhya_2\\Anaconda3\\lib\\site-packages\\scipy\\stats\\_continuous_distns.py:2651: RuntimeWarning: The shape parameter of the erlang distribution has been given a non-integer value 1.9787396027452737.\n",
      "  RuntimeWarning)\n",
      "C:\\Users\\Srividhya_2\\Anaconda3\\lib\\site-packages\\scipy\\stats\\_continuous_distns.py:2651: RuntimeWarning: The shape parameter of the erlang distribution has been given a non-integer value 1.9786411291249761.\n",
      "  RuntimeWarning)\n",
      "C:\\Users\\Srividhya_2\\Anaconda3\\lib\\site-packages\\scipy\\stats\\_continuous_distns.py:2651: RuntimeWarning: The shape parameter of the erlang distribution has been given a non-integer value 1.9792290394258154.\n",
      "  RuntimeWarning)\n",
      "C:\\Users\\Srividhya_2\\Anaconda3\\lib\\site-packages\\scipy\\stats\\_continuous_distns.py:2651: RuntimeWarning: The shape parameter of the erlang distribution has been given a non-integer value 1.9787303416674336.\n",
      "  RuntimeWarning)\n",
      "C:\\Users\\Srividhya_2\\Anaconda3\\lib\\site-packages\\scipy\\stats\\_continuous_distns.py:2651: RuntimeWarning: The shape parameter of the erlang distribution has been given a non-integer value 1.9786035005594313.\n",
      "  RuntimeWarning)\n",
      "C:\\Users\\Srividhya_2\\Anaconda3\\lib\\site-packages\\scipy\\stats\\_continuous_distns.py:2651: RuntimeWarning: The shape parameter of the erlang distribution has been given a non-integer value 1.9789053192165484.\n",
      "  RuntimeWarning)\n",
      "C:\\Users\\Srividhya_2\\Anaconda3\\lib\\site-packages\\scipy\\stats\\_continuous_distns.py:2651: RuntimeWarning: The shape parameter of the erlang distribution has been given a non-integer value 1.978639314506349.\n",
      "  RuntimeWarning)\n",
      "C:\\Users\\Srividhya_2\\Anaconda3\\lib\\site-packages\\scipy\\stats\\_continuous_distns.py:2651: RuntimeWarning: The shape parameter of the erlang distribution has been given a non-integer value 1.978867974561453.\n",
      "  RuntimeWarning)\n",
      "C:\\Users\\Srividhya_2\\Anaconda3\\lib\\site-packages\\scipy\\stats\\_continuous_distns.py:2651: RuntimeWarning: The shape parameter of the erlang distribution has been given a non-integer value 1.978929487551683.\n",
      "  RuntimeWarning)\n",
      "C:\\Users\\Srividhya_2\\Anaconda3\\lib\\site-packages\\scipy\\stats\\_continuous_distns.py:2651: RuntimeWarning: The shape parameter of the erlang distribution has been given a non-integer value 1.978787073946876.\n",
      "  RuntimeWarning)\n",
      "C:\\Users\\Srividhya_2\\Anaconda3\\lib\\site-packages\\scipy\\stats\\_continuous_distns.py:2651: RuntimeWarning: The shape parameter of the erlang distribution has been given a non-integer value 1.9786849409006266.\n",
      "  RuntimeWarning)\n",
      "C:\\Users\\Srividhya_2\\Anaconda3\\lib\\site-packages\\scipy\\stats\\_continuous_distns.py:2651: RuntimeWarning: The shape parameter of the erlang distribution has been given a non-integer value 1.978850224637568.\n",
      "  RuntimeWarning)\n",
      "C:\\Users\\Srividhya_2\\Anaconda3\\lib\\site-packages\\scipy\\stats\\_continuous_distns.py:2651: RuntimeWarning: The shape parameter of the erlang distribution has been given a non-integer value 1.97884528663076.\n",
      "  RuntimeWarning)\n",
      "C:\\Users\\Srividhya_2\\Anaconda3\\lib\\site-packages\\scipy\\stats\\_continuous_distns.py:2651: RuntimeWarning: The shape parameter of the erlang distribution has been given a non-integer value 1.9787492607290549.\n",
      "  RuntimeWarning)\n",
      "C:\\Users\\Srividhya_2\\Anaconda3\\lib\\site-packages\\scipy\\stats\\_continuous_distns.py:2651: RuntimeWarning: The shape parameter of the erlang distribution has been given a non-integer value 1.9788382961033535.\n",
      "  RuntimeWarning)\n",
      "C:\\Users\\Srividhya_2\\Anaconda3\\lib\\site-packages\\scipy\\stats\\_continuous_distns.py:2651: RuntimeWarning: The shape parameter of the erlang distribution has been given a non-integer value 1.9789588632470205.\n",
      "  RuntimeWarning)\n",
      "C:\\Users\\Srividhya_2\\Anaconda3\\lib\\site-packages\\scipy\\stats\\_continuous_distns.py:2651: RuntimeWarning: The shape parameter of the erlang distribution has been given a non-integer value 1.9787874720623302.\n",
      "  RuntimeWarning)\n",
      "C:\\Users\\Srividhya_2\\Anaconda3\\lib\\site-packages\\scipy\\stats\\_continuous_distns.py:2651: RuntimeWarning: The shape parameter of the erlang distribution has been given a non-integer value array(1.97878747).\n",
      "  RuntimeWarning)\n"
     ]
    },
    {
     "name": "stdout",
     "output_type": "stream",
     "text": [
      "\n",
      "Fitted exponpow distribution with error=0.037183558373911935)\n",
      "Fitted exponweib distribution with error=0.0012666913754036458)\n",
      "Fitted f distribution with error=0.0012527559359814717)\n",
      "Fitted fatiguelife distribution with error=0.002294943635961169)\n",
      "Fitted fisk distribution with error=0.008196490801572849)\n",
      "Fitted foldcauchy distribution with error=0.022326131272747567)\n",
      "Fitted foldnorm distribution with error=0.032834382122892504)\n",
      "Fitted frechet_l distribution with error=1.0586226343166694)\n",
      "Fitted frechet_r distribution with error=0.003977410400384213)\n",
      "Fitted gamma distribution with error=0.0012509332280045537)\n"
     ]
    },
    {
     "name": "stderr",
     "output_type": "stream",
     "text": [
      "C:\\Users\\Srividhya_2\\Anaconda3\\lib\\site-packages\\scipy\\stats\\_distn_infrastructure.py:1625: RuntimeWarning: divide by zero encountered in log\n",
      "  return log(self._pdf(x, *args))\n",
      "C:\\Users\\Srividhya_2\\Anaconda3\\lib\\site-packages\\scipy\\stats\\_continuous_distns.py:3175: RuntimeWarning: divide by zero encountered in power\n",
      "  return 1.0/Cinv * x**(a-1.0) * (1.0-x)**(b-1.0) / (1.0+z*x)**c\n"
     ]
    },
    {
     "name": "stdout",
     "output_type": "stream",
     "text": [
      "Fitted gausshyper distribution with error=0.07358833886748961)\n",
      "Fitted genexpon distribution with error=0.0014384417881442178)\n",
      "Fitted genextreme distribution with error=0.006324793553386453)\n",
      "Fitted gengamma distribution with error=0.001282759884524912)\n",
      "Fitted genhalflogistic distribution with error=0.030310137419569207)\n",
      "Fitted genlogistic distribution with error=0.012454992359775954)\n",
      "Fitted gennorm distribution with error=0.04404607516273108)\n"
     ]
    },
    {
     "name": "stderr",
     "output_type": "stream",
     "text": [
      "C:\\Users\\Srividhya_2\\Anaconda3\\lib\\site-packages\\scipy\\stats\\_continuous_distns.py:2248: RuntimeWarning: divide by zero encountered in true_divide\n",
      "  val = val + cnk * (-1) ** ki / (1.0 - c * ki)\n"
     ]
    },
    {
     "name": "stdout",
     "output_type": "stream",
     "text": [
      "Fitted genpareto distribution with error=0.08504376000651646)\n",
      "Fitted gilbrat distribution with error=0.03464699768712573)\n",
      "Fitted gompertz distribution with error=0.03966877974233533)\n",
      "Fitted gumbel_l distribution with error=0.13511499930443369)\n",
      "Fitted gumbel_r distribution with error=0.012545385363816896)\n",
      "Fitted halfcauchy distribution with error=0.08988723264780345)\n",
      "Fitted halfgennorm distribution with error=0.13652611539469625)\n",
      "Fitted halflogistic distribution with error=0.04071854595135146)\n",
      "Fitted halfnorm distribution with error=0.03283424435511978)\n",
      "Fitted hypsecant distribution with error=0.03925203295482894)\n",
      "Fitted invgamma distribution with error=0.005025516326163933)\n",
      "Fitted invgauss distribution with error=0.002642687207554103)\n",
      "Fitted invweibull distribution with error=0.00632579876786837)\n",
      "Fitted johnsonsb distribution with error=0.0017592638566593251)\n",
      "Fitted johnsonsu distribution with error=0.003399501425745407)\n",
      "Fitted kappa3 distribution with error=0.02478366008574764)\n",
      "Fitted kappa4 distribution with error=0.16424203636602405)\n"
     ]
    },
    {
     "name": "stderr",
     "output_type": "stream",
     "text": [
      "C:\\Users\\Srividhya_2\\Anaconda3\\lib\\site-packages\\scipy\\stats\\_continuous_distns.py:79: RuntimeWarning: floating point number truncated to an integer\n",
      "  return -scu._smirnovp(n, x)\n"
     ]
    },
    {
     "name": "stdout",
     "output_type": "stream",
     "text": [
      "Fitted ksone distribution with error=0.3239160950059065)\n",
      "Fitted kstwobign distribution with error=0.012196431076906008)\n",
      "Fitted laplace distribution with error=0.051234796775989425)\n",
      "Fitted levy distribution with error=0.12069502145513084)\n",
      "Fitted levy_l distribution with error=0.40692137619168417)\n",
      "SKIPPED levy_stable distribution (taking more than 30 seconds)\n",
      "SKIPPED loggamma distribution (taking more than 30 seconds)\n",
      "Fitted logistic distribution with error=0.04129827343237578)\n"
     ]
    },
    {
     "name": "stderr",
     "output_type": "stream",
     "text": [
      "C:\\Users\\Srividhya_2\\Anaconda3\\lib\\site-packages\\scipy\\stats\\_continuous_distns.py:4299: RuntimeWarning: divide by zero encountered in true_divide\n",
      "  return c**2 / (c**2 - n**2)\n"
     ]
    },
    {
     "name": "stdout",
     "output_type": "stream",
     "text": [
      "Fitted loglaplace distribution with error=0.028015559192860282)\n",
      "SKIPPED lognorm distribution (taking more than 30 seconds)\n",
      "Fitted lomax distribution with error=0.09747734262640945)\n",
      "Fitted maxwell distribution with error=0.033566180076123775)\n"
     ]
    },
    {
     "name": "stderr",
     "output_type": "stream",
     "text": [
      "C:\\Users\\Srividhya_2\\Anaconda3\\lib\\site-packages\\scipy\\stats\\_distn_infrastructure.py:1618: IntegrationWarning: Extremely bad integrand behavior occurs at some points of the\n",
      "  integration interval.\n",
      "  return integrate.quad(self._mom_integ1, 0, 1, args=(m,)+args)[0]\n",
      "C:\\Users\\Srividhya_2\\Anaconda3\\lib\\site-packages\\scipy\\stats\\_distn_infrastructure.py:1618: IntegrationWarning: The integral is probably divergent, or slowly convergent.\n",
      "  return integrate.quad(self._mom_integ1, 0, 1, args=(m,)+args)[0]\n"
     ]
    },
    {
     "name": "stdout",
     "output_type": "stream",
     "text": [
      "Fitted mielke distribution with error=0.009313315775489233)\n",
      "Fitted moyal distribution with error=0.005815581028439317)\n",
      "Fitted nakagami distribution with error=0.011196601238945517)\n",
      "SKIPPED ncf distribution (taking more than 30 seconds)\n",
      "SKIPPED nct distribution (taking more than 30 seconds)\n",
      "SKIPPED ncx2 distribution (taking more than 30 seconds)\n",
      "Fitted norm distribution with error=0.055877570897087545)\n",
      "SKIPPED norminvgauss distribution (taking more than 30 seconds)\n",
      "Fitted pareto distribution with error=0.4110182454027387)\n",
      "Fitted pearson3 distribution with error=0.0012507466454065304)\n",
      "Fitted powerlaw distribution with error=0.2465231687382233)\n"
     ]
    },
    {
     "name": "stderr",
     "output_type": "stream",
     "text": [
      "C:\\Users\\Srividhya_2\\Anaconda3\\lib\\site-packages\\scipy\\stats\\_continuous_distns.py:5689: RuntimeWarning: divide by zero encountered in power\n",
      "  pow(_norm_cdf(-np.log(x)/s), c*1.0-1.0))\n",
      "C:\\Users\\Srividhya_2\\Anaconda3\\lib\\site-packages\\scipy\\stats\\_continuous_distns.py:5689: RuntimeWarning: invalid value encountered in multiply\n",
      "  pow(_norm_cdf(-np.log(x)/s), c*1.0-1.0))\n"
     ]
    },
    {
     "name": "stdout",
     "output_type": "stream",
     "text": [
      "SKIPPED powerlognorm distribution (taking more than 30 seconds)\n",
      "SKIPPED powernorm distribution (taking more than 30 seconds)\n",
      "Fitted rayleigh distribution with error=0.025691716986214846)\n",
      "SKIPPED rdist distribution (taking more than 30 seconds)\n",
      "Fitted recipinvgauss distribution with error=0.002080012573862443)\n",
      "Fitted reciprocal distribution with error=0.46687919817784507)\n",
      "Fitted rice distribution with error=0.025691199080488118)\n",
      "SKIPPED rv_continuous distribution (taking more than 30 seconds)\n",
      "SKIPPED rv_histogram distribution (taking more than 30 seconds)\n",
      "Fitted semicircular distribution with error=0.32056395600986626)\n",
      "Fitted skewnorm distribution with error=0.00581636106509396)\n",
      "Fitted t distribution with error=0.03896289004067764)\n",
      "Fitted trapz distribution with error=0.48902522279580246)\n"
     ]
    },
    {
     "name": "stderr",
     "output_type": "stream",
     "text": [
      "C:\\Users\\Srividhya_2\\Anaconda3\\lib\\site-packages\\scipy\\stats\\_continuous_distns.py:3858: IntegrationWarning: The integral is probably divergent, or slowly convergent.\n",
      "  intg = integrate.quad(f, -xi, np.pi/2, **intg_kwargs)[0]\n"
     ]
    },
    {
     "name": "stdout",
     "output_type": "stream",
     "text": [
      "SKIPPED triang distribution (taking more than 30 seconds)\n",
      "Fitted truncexpon distribution with error=0.235257493123562)\n"
     ]
    },
    {
     "name": "stderr",
     "output_type": "stream",
     "text": [
      "C:\\Users\\Srividhya_2\\Anaconda3\\lib\\site-packages\\scipy\\stats\\_continuous_distns.py:6348: RuntimeWarning: divide by zero encountered in log\n",
      "  self._logdelta = np.log(self._delta)\n",
      "C:\\Users\\Srividhya_2\\Anaconda3\\lib\\site-packages\\scipy\\stats\\_continuous_distns.py:6348: RuntimeWarning: invalid value encountered in log\n",
      "  self._logdelta = np.log(self._delta)\n"
     ]
    },
    {
     "name": "stdout",
     "output_type": "stream",
     "text": [
      "Fitted truncnorm distribution with error=0.46687919817784507)\n"
     ]
    },
    {
     "name": "stderr",
     "output_type": "stream",
     "text": [
      "C:\\Users\\Srividhya_2\\Anaconda3\\lib\\site-packages\\scipy\\stats\\_continuous_distns.py:6408: RuntimeWarning: divide by zero encountered in power\n",
      "  Px = Fx**(lam-1.0) + (np.asarray(1-Fx))**(lam-1.0)\n"
     ]
    },
    {
     "name": "stdout",
     "output_type": "stream",
     "text": [
      "SKIPPED tukeylambda distribution (taking more than 30 seconds)\n",
      "Fitted uniform distribution with error=0.3238031440970861)\n",
      "Fitted vonmises distribution with error=5.751947060027482e+54)\n",
      "SKIPPED vonmises_line distribution (taking more than 30 seconds)\n",
      "Fitted wald distribution with error=0.030316267598222695)\n",
      "Fitted weibull_max distribution with error=1.0586226343166694)\n",
      "Fitted weibull_min distribution with error=0.003977410400384213)\n"
     ]
    },
    {
     "name": "stderr",
     "output_type": "stream",
     "text": [
      "C:\\Users\\Srividhya_2\\Anaconda3\\lib\\site-packages\\scipy\\optimize\\optimize.py:570: RuntimeWarning: invalid value encountered in subtract\n",
      "  numpy.max(numpy.abs(fsim[0] - fsim[1:])) <= fatol):\n"
     ]
    },
    {
     "name": "stdout",
     "output_type": "stream",
     "text": [
      "Fitted wrapcauchy distribution with error=nan)\n"
     ]
    },
    {
     "data": {
      "text/html": [
       "<div>\n",
       "<style scoped>\n",
       "    .dataframe tbody tr th:only-of-type {\n",
       "        vertical-align: middle;\n",
       "    }\n",
       "\n",
       "    .dataframe tbody tr th {\n",
       "        vertical-align: top;\n",
       "    }\n",
       "\n",
       "    .dataframe thead th {\n",
       "        text-align: right;\n",
       "    }\n",
       "</style>\n",
       "<table border=\"1\" class=\"dataframe\">\n",
       "  <thead>\n",
       "    <tr style=\"text-align: right;\">\n",
       "      <th></th>\n",
       "      <th>sumsquare_error</th>\n",
       "    </tr>\n",
       "  </thead>\n",
       "  <tbody>\n",
       "    <tr>\n",
       "      <th>pearson3</th>\n",
       "      <td>0.001251</td>\n",
       "    </tr>\n",
       "    <tr>\n",
       "      <th>erlang</th>\n",
       "      <td>0.001251</td>\n",
       "    </tr>\n",
       "    <tr>\n",
       "      <th>chi2</th>\n",
       "      <td>0.001251</td>\n",
       "    </tr>\n",
       "    <tr>\n",
       "      <th>gamma</th>\n",
       "      <td>0.001251</td>\n",
       "    </tr>\n",
       "    <tr>\n",
       "      <th>f</th>\n",
       "      <td>0.001253</td>\n",
       "    </tr>\n",
       "  </tbody>\n",
       "</table>\n",
       "</div>"
      ],
      "text/plain": [
       "          sumsquare_error\n",
       "pearson3         0.001251\n",
       "erlang           0.001251\n",
       "chi2             0.001251\n",
       "gamma            0.001251\n",
       "f                0.001253"
      ]
     },
     "execution_count": 4,
     "metadata": {},
     "output_type": "execute_result"
    },
    {
     "name": "stderr",
     "output_type": "stream",
     "text": [
      "C:\\Users\\Srividhya_2\\Anaconda3\\lib\\site-packages\\scipy\\stats\\_distn_infrastructure.py:1625: RuntimeWarning: invalid value encountered in log\n",
      "  return log(self._pdf(x, *args))\n",
      "C:\\Users\\Srividhya_2\\Anaconda3\\lib\\site-packages\\scipy\\stats\\_continuous_distns.py:3858: IntegrationWarning: The integral is probably divergent, or slowly convergent.\n",
      "  intg = integrate.quad(f, -xi, np.pi/2, **intg_kwargs)[0]\n"
     ]
    }
   ],
   "source": [
    "from fitter import Fitter\n",
    "f = Fitter(data)\n",
    "f.fit()\n",
    "# may take some time since by default, all distributions are tried\n",
    "# but you call manually provide a smaller set of distributions\n",
    "f.summary()"
   ]
  },
  {
   "cell_type": "code",
   "execution_count": null,
   "metadata": {},
   "outputs": [],
   "source": []
  }
 ],
 "metadata": {
  "kernelspec": {
   "display_name": "Python 3",
   "language": "python",
   "name": "python3"
  },
  "language_info": {
   "codemirror_mode": {
    "name": "ipython",
    "version": 3
   },
   "file_extension": ".py",
   "mimetype": "text/x-python",
   "name": "python",
   "nbconvert_exporter": "python",
   "pygments_lexer": "ipython3",
   "version": "3.7.3"
  }
 },
 "nbformat": 4,
 "nbformat_minor": 2
}
